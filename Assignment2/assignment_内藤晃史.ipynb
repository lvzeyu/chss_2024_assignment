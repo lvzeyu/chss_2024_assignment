{
 "cells": [
  {
   "cell_type": "markdown",
   "metadata": {},
   "source": [
    "# 第二回の課題\n",
    "\n",
    "課題ファイルを複製し、ファイル名を```assignment_{自分の名前}.ipynb```に変更してから課題を回答してください。"
   ]
  },
  {
   "cell_type": "markdown",
   "metadata": {},
   "source": [
    "## 課題1\n",
    "\n",
    "与えられたリスト内重複な値を削除してください。"
   ]
  },
  {
   "cell_type": "code",
   "execution_count": 1,
   "metadata": {
    "ExecuteTime": {
     "end_time": "2024-05-08T04:35:31.102939Z",
     "start_time": "2024-05-08T04:35:31.096012Z"
    }
   },
   "outputs": [],
   "source": [
    "numbers = [1, 2, 3, 2, 4, 3, 5, 4, 6, 57, 57, 6, 18, 7, 9, 8, 10, 9, 0, 0, 10]"
   ]
  },
  {
   "cell_type": "code",
   "outputs": [
    {
     "name": "stdout",
     "output_type": "stream",
     "text": [
      "{0, 1, 2, 3, 4, 5, 6, 7, 8, 9, 10, 18, 57}\n"
     ]
    }
   ],
   "source": [
    "answer = set(numbers)\n",
    "print(answer)"
   ],
   "metadata": {
    "collapsed": false,
    "ExecuteTime": {
     "end_time": "2024-05-08T04:35:31.111016Z",
     "start_time": "2024-05-08T04:35:31.104058Z"
    }
   },
   "execution_count": 2
  },
  {
   "cell_type": "markdown",
   "metadata": {},
   "source": [
    "## 課題2\n",
    "\n",
    "与えられたリスト内の指定した値を検索し、値の出現回数をprintしてください。見つからない場合はNot Existsをprintしてください。\n",
    "\n",
    "value_0とvalue_１を実行した結果を確認してください。"
   ]
  },
  {
   "cell_type": "code",
   "execution_count": 3,
   "metadata": {
    "ExecuteTime": {
     "end_time": "2024-05-08T04:43:33.898122Z",
     "start_time": "2024-05-08T04:43:33.894266Z"
    }
   },
   "outputs": [],
   "source": [
    "numbers = [1, 2, 3, 2, 4, 3, 5, 4, 6, 57, 57, 6, 18, 7, 9, 8, 10, 9, 0, 0, 10]\n",
    "value_0= 0\n",
    "value_1= 100"
   ]
  },
  {
   "cell_type": "code",
   "outputs": [
    {
     "name": "stdout",
     "output_type": "stream",
     "text": [
      "2\n",
      "Not Exists\n"
     ]
    }
   ],
   "source": [
    "def count_value(numbers, count_value):\n",
    "    count = numbers.count(count_value)\n",
    "    if count:\n",
    "       return print(count)\n",
    "    else:\n",
    "       return print(\"Not Exists\")\n",
    "\n",
    "#value_0の数\n",
    "count_value(numbers, value_0)\n",
    "#value_1の数\n",
    "count_value(numbers, value_1)"
   ],
   "metadata": {
    "collapsed": false,
    "ExecuteTime": {
     "end_time": "2024-05-08T04:43:56.533183Z",
     "start_time": "2024-05-08T04:43:56.529747Z"
    }
   },
   "execution_count": 5
  },
  {
   "cell_type": "markdown",
   "metadata": {},
   "source": [
    "## 課題3\n",
    "\n",
    "与えられた辞書内の指定したに一致するキーを検索し、そのキーに対応する値をprintしてください。見つからない場合はNot Existsをprintしてください。\n",
    "\n",
    "value_0とvalue_１を実行した結果を確認してください。"
   ]
  },
  {
   "cell_type": "code",
   "execution_count": 9,
   "metadata": {
    "ExecuteTime": {
     "end_time": "2024-05-08T05:01:26.768924Z",
     "start_time": "2024-05-08T05:01:26.765593Z"
    }
   },
   "outputs": [],
   "source": [
    "birth={'Marx': 1818,\n",
    "       'Weber': 1864,\n",
    "       'Durkheim': 1858,\n",
    "       'Parsons': 1902,\n",
    "       'Merton': 1911}\n",
    "\n",
    "value_0= \"Parsons\"\n",
    "value_1= \"Giddens\""
   ]
  },
  {
   "cell_type": "code",
   "outputs": [
    {
     "name": "stdout",
     "output_type": "stream",
     "text": [
      "1902\n",
      "Not Exists\n"
     ]
    }
   ],
   "source": [
    "def find_value(dictionary, key):\n",
    "    if key in dictionary.keys():\n",
    "       return print(dictionary[key])\n",
    "    else:\n",
    "       return print(\"Not Exists\")\n",
    "\n",
    "#value_0の値\n",
    "find_value(birth, value_0)\n",
    "#value_1の値\n",
    "find_value(birth, value_1)"
   ],
   "metadata": {
    "collapsed": false,
    "ExecuteTime": {
     "end_time": "2024-05-08T05:02:02.143745Z",
     "start_time": "2024-05-08T05:02:02.140117Z"
    }
   },
   "execution_count": 11
  },
  {
   "cell_type": "markdown",
   "metadata": {},
   "source": [
    "## 課題4\n",
    "\n",
    "与えられた辞書の値を新しいリストに格納し、降順にソートしてください。"
   ]
  },
  {
   "cell_type": "code",
   "execution_count": 13,
   "metadata": {
    "ExecuteTime": {
     "end_time": "2024-05-08T05:12:00.559024Z",
     "start_time": "2024-05-08T05:12:00.555952Z"
    }
   },
   "outputs": [],
   "source": [
    "birth={'Marx': 1818,\n",
    "       'Weber': 1864,\n",
    "       'Durkheim': 1858,\n",
    "       'Parsons': 1902,\n",
    "       'Merton': 1911}"
   ]
  },
  {
   "cell_type": "code",
   "outputs": [
    {
     "name": "stdout",
     "output_type": "stream",
     "text": [
      "[1911, 1902, 1864, 1858, 1818]\n"
     ]
    }
   ],
   "source": [
    "def dict_sort(dictionary):\n",
    "    temp = list(dictionary.values())\n",
    "    temp.sort(reverse=True)\n",
    "    return print(temp)\n",
    "dict_sort(birth)"
   ],
   "metadata": {
    "collapsed": false,
    "ExecuteTime": {
     "end_time": "2024-05-08T05:22:30.639408Z",
     "start_time": "2024-05-08T05:22:30.636229Z"
    }
   },
   "execution_count": 24
  },
  {
   "cell_type": "markdown",
   "source": [
    "# 以下は授業内練習課題"
   ],
   "metadata": {
    "collapsed": false
   }
  },
  {
   "cell_type": "code",
   "outputs": [
    {
     "name": "stdout",
     "output_type": "stream",
     "text": [
      "一日は86400秒です\n"
     ]
    }
   ],
   "source": [
    "#練習1\n",
    "print(\"一日は{}秒です\".format(60*60*24))"
   ],
   "metadata": {
    "collapsed": false,
    "ExecuteTime": {
     "end_time": "2024-05-08T04:49:24.522122Z",
     "start_time": "2024-05-08T04:49:24.518182Z"
    }
   },
   "execution_count": 6
  },
  {
   "cell_type": "code",
   "outputs": [
    {
     "name": "stdout",
     "output_type": "stream",
     "text": [
      "一年は525949.0分12.0秒です\n"
     ]
    }
   ],
   "source": [
    "#練習2\n",
    "print(\"一年は{}分{}秒です\".format(60*60*24*365.2425//60, 60*60*24*365.2425%60))"
   ],
   "metadata": {
    "collapsed": false,
    "ExecuteTime": {
     "end_time": "2024-05-08T04:52:39.562316Z",
     "start_time": "2024-05-08T04:52:39.558460Z"
    }
   },
   "execution_count": 8
  },
  {
   "cell_type": "code",
   "outputs": [
    {
     "name": "stdout",
     "output_type": "stream",
     "text": [
      "{'Marx': 1883, 'Weber': 1864, 'Durkheim': 1917}\n",
      "{'Marx': 1883, 'Weber': 1864, 'Durkheim': 1917, 'Merton': 2003}\n",
      "Marx died when he was 65 years old.\n"
     ]
    }
   ],
   "source": [
    "#練習3\n",
    "birth = {'Marx': 1818,\n",
    " 'Weber': 1864,\n",
    " 'Durkheim': 1858,\n",
    " 'Parsons': 1902,\n",
    " 'Merton': 1911}\n",
    "old_age = dict(Marx=1883, Weber=1920, Durkheim=1917)\n",
    "print(old_age)\n",
    "old_age[\"Merton\"]=2003\n",
    "print(old_age)\n",
    "age = old_age[\"Marx\"] - birth[\"Marx\"]\n",
    "print(\"Marx died when he was {} years old.\".format(age))"
   ],
   "metadata": {
    "collapsed": false,
    "ExecuteTime": {
     "end_time": "2024-05-15T04:19:07.123163Z",
     "start_time": "2024-05-15T04:19:07.117914Z"
    }
   },
   "execution_count": 7
  },
  {
   "cell_type": "markdown",
   "source": [
    "## 分岐"
   ],
   "metadata": {
    "collapsed": false
   }
  },
  {
   "cell_type": "code",
   "outputs": [
    {
     "name": "stdout",
     "output_type": "stream",
     "text": [
      "81\n"
     ]
    }
   ],
   "source": [
    "#練習1\n",
    "def calc(x):\n",
    "    if x<0:\n",
    "        return print(x+5)\n",
    "    elif x==0:\n",
    "        return print(x)\n",
    "    else:\n",
    "        return print(x**2)\n",
    "calc(9)"
   ],
   "metadata": {
    "collapsed": false,
    "ExecuteTime": {
     "end_time": "2024-05-15T04:58:20.598368Z",
     "start_time": "2024-05-15T04:58:20.594251Z"
    }
   },
   "execution_count": 14
  },
  {
   "cell_type": "code",
   "outputs": [
    {
     "name": "stdout",
     "output_type": "stream",
     "text": [
      "500\n"
     ]
    }
   ],
   "source": [
    "#練習2\n",
    "def fee(age):\n",
    "    if age>=13:\n",
    "       return 1000\n",
    "    elif age>=4 and age<13:\n",
    "       return 500\n",
    "    else:\n",
    "       return 0\n",
    "age = 10\n",
    "print(fee(age))"
   ],
   "metadata": {
    "collapsed": false,
    "ExecuteTime": {
     "end_time": "2024-05-15T05:04:32.601386Z",
     "start_time": "2024-05-15T05:04:32.596828Z"
    }
   },
   "execution_count": 15
  },
  {
   "cell_type": "code",
   "outputs": [
    {
     "name": "stdout",
     "output_type": "stream",
     "text": [
      "サポートされている言語です\n"
     ]
    }
   ],
   "source": [
    "def find_language(lang):\n",
    "    languages = [\"Python\", \"Java\", \"C++\", \"JavaScript\"]\n",
    "    supported_languages = [\"Ruby\", \"Go\", \"PHP\"]\n",
    "    if lang in languages:\n",
    "       print(\"サポートされている言語です\")\n",
    "    elif lang in supported_languages:\n",
    "       print(\"他の言語でもサポートされています\")\n",
    "    else:\n",
    "       print(\"サポートされていない言語です\")\n",
    "user_language = \"Python\" # user_languageを変えてみよう\n",
    "find_language(user_language)"
   ],
   "metadata": {
    "collapsed": false,
    "ExecuteTime": {
     "end_time": "2024-05-15T05:08:19.476819Z",
     "start_time": "2024-05-15T05:08:19.472012Z"
    }
   },
   "execution_count": 16
  },
  {
   "cell_type": "markdown",
   "source": [
    "## 練習課題"
   ],
   "metadata": {
    "collapsed": false
   }
  },
  {
   "cell_type": "code",
   "outputs": [],
   "source": [
    "#練習課題1\n",
    "def check_palindrome(my_str):\n",
    "    if my_str == my_str[::-1]:\n",
    "        print(\"The string is a palindrome\")\n",
    "    else:\n",
    "        print(\"The string is not a palindrome\")\n",
    "\n",
    "my_str = 'aibohphobia'\n",
    "check_palindrome(my_str)\n",
    "my_str2 = 'たけやぶやけた'\n",
    "check_palindrome(my_str2)\n",
    "my_str3 = 'Tohoku'\n",
    "check_palindrome(my_str3)"
   ],
   "metadata": {
    "collapsed": false
   }
  },
  {
   "cell_type": "code",
   "outputs": [
    {
     "data": {
      "text/plain": "'Computational Social Science'"
     },
     "execution_count": 27,
     "metadata": {},
     "output_type": "execute_result"
    }
   ],
   "source": [
    "#練習課題2\n",
    "def capital_upper(my_str:str):\n",
    "    #文頭は大文字\n",
    "    #文字列を一度リストに変換してあげる必要がある\n",
    "    chars = list(my_str)\n",
    "    chars[0] = chars[0].upper()\n",
    "    for i in range(1, len(my_str)):\n",
    "        if chars[i-1] == \" \":\n",
    "            chars[i] = chars[i].upper()\n",
    "    return ''.join(chars)\n",
    "my_string = \"computational social science\"\n",
    "result = capital_upper(my_string)\n",
    "capital_upper(result)"
   ],
   "metadata": {
    "collapsed": false,
    "ExecuteTime": {
     "end_time": "2024-05-15T05:54:33.477650Z",
     "start_time": "2024-05-15T05:54:33.471079Z"
    }
   },
   "execution_count": 27
  },
  {
   "cell_type": "code",
   "outputs": [
    {
     "name": "stdout",
     "output_type": "stream",
     "text": [
      "[1, 3, 1, 6]\n"
     ]
    }
   ],
   "source": [
    "#練習課題3\n",
    "list_1 = [1, 3, 1, 6, 9]\n",
    "list_2 = [7, 5, 2, 8]\n",
    "for n in list_1:\n",
    "    if n in list_2:\n",
    "        list_1.remove(n)\n",
    "print(list_1)"
   ],
   "metadata": {
    "collapsed": false,
    "ExecuteTime": {
     "end_time": "2024-05-15T05:56:52.761342Z",
     "start_time": "2024-05-15T05:56:52.757420Z"
    }
   },
   "execution_count": 29
  },
  {
   "cell_type": "markdown",
   "source": [],
   "metadata": {
    "collapsed": false
   }
  }
 ],
 "metadata": {
  "kernelspec": {
   "display_name": "Python 3",
   "language": "python",
   "name": "python3"
  },
  "language_info": {
   "codemirror_mode": {
    "name": "ipython",
    "version": 3
   },
   "file_extension": ".py",
   "mimetype": "text/x-python",
   "name": "python",
   "nbconvert_exporter": "python",
   "pygments_lexer": "ipython3",
   "version": "3.11.5"
  }
 },
 "nbformat": 4,
 "nbformat_minor": 2
}
